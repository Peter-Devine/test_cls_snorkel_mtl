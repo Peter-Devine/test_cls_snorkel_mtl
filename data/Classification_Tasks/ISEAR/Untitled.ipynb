{
 "cells": [
  {
   "cell_type": "code",
   "execution_count": 1,
   "metadata": {},
   "outputs": [],
   "source": [
    "import pandas as pd"
   ]
  },
  {
   "cell_type": "code",
   "execution_count": 2,
   "metadata": {},
   "outputs": [],
   "source": [
    "train = pd.read_csv(\"train.tsv\", sep=\"\\t\")\n",
    "dev = pd.read_csv(\"dev.tsv\", sep=\"\\t\")"
   ]
  },
  {
   "cell_type": "code",
   "execution_count": 5,
   "metadata": {},
   "outputs": [
    {
     "data": {
      "text/plain": [
       "disgust    0.159159\n",
       "shame      0.154154\n",
       "fear       0.147147\n",
       "joy        0.140140\n",
       "sadness    0.140140\n",
       "guilt      0.133133\n",
       "anger      0.126126\n",
       "Name: label, dtype: float64"
      ]
     },
     "execution_count": 5,
     "metadata": {},
     "output_type": "execute_result"
    }
   ],
   "source": [
    "train.label.value_counts(normalize=True)"
   ]
  },
  {
   "cell_type": "code",
   "execution_count": 6,
   "metadata": {},
   "outputs": [
    {
     "data": {
      "text/plain": [
       "guilt      0.155155\n",
       "sadness    0.152152\n",
       "anger      0.149149\n",
       "joy        0.144144\n",
       "fear       0.140140\n",
       "shame      0.134134\n",
       "disgust    0.125125\n",
       "Name: label, dtype: float64"
      ]
     },
     "execution_count": 6,
     "metadata": {},
     "output_type": "execute_result"
    }
   ],
   "source": [
    "dev.label.value_counts(normalize=True)"
   ]
  },
  {
   "cell_type": "code",
   "execution_count": 13,
   "metadata": {},
   "outputs": [
    {
     "data": {
      "text/plain": [
       "727    87\n",
       "886    84\n",
       "917    76\n",
       "381    74\n",
       "934    72\n",
       "118    66\n",
       "212    64\n",
       "361    61\n",
       "73     61\n",
       "422    59\n",
       "245    59\n",
       "812    58\n",
       "898    58\n",
       "705    58\n",
       "344    57\n",
       "685    57\n",
       "281    56\n",
       "976    55\n",
       "248    55\n",
       "796    55\n",
       "807    54\n",
       "349    54\n",
       "209    53\n",
       "680    53\n",
       "726    52\n",
       "86     52\n",
       "124    52\n",
       "274    52\n",
       "670    51\n",
       "808    51\n",
       "       ..\n",
       "552     3\n",
       "308     3\n",
       "313     3\n",
       "314     3\n",
       "315     3\n",
       "316     3\n",
       "868     3\n",
       "321     3\n",
       "130     3\n",
       "370     3\n",
       "376     3\n",
       "378     3\n",
       "379     3\n",
       "320     3\n",
       "138     3\n",
       "306     3\n",
       "143     3\n",
       "375     3\n",
       "305     3\n",
       "140     3\n",
       "394     3\n",
       "93      2\n",
       "107     2\n",
       "404     2\n",
       "443     2\n",
       "388     2\n",
       "432     2\n",
       "502     2\n",
       "974     2\n",
       "564     2\n",
       "Name: text_A, Length: 999, dtype: int64"
      ]
     },
     "execution_count": 13,
     "metadata": {},
     "output_type": "execute_result"
    }
   ],
   "source": [
    "train.text_A.str.split().apply(lambda x: len(x)).sort_values(ascending=False)"
   ]
  },
  {
   "cell_type": "code",
   "execution_count": null,
   "metadata": {},
   "outputs": [],
   "source": []
  }
 ],
 "metadata": {
  "kernelspec": {
   "display_name": "Python 3",
   "language": "python",
   "name": "python3"
  },
  "language_info": {
   "codemirror_mode": {
    "name": "ipython",
    "version": 3
   },
   "file_extension": ".py",
   "mimetype": "text/x-python",
   "name": "python",
   "nbconvert_exporter": "python",
   "pygments_lexer": "ipython3",
   "version": "3.6.7"
  }
 },
 "nbformat": 4,
 "nbformat_minor": 2
}
